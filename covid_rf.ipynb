{
  "nbformat": 4,
  "nbformat_minor": 0,
  "metadata": {
    "colab": {
      "provenance": []
    },
    "kernelspec": {
      "name": "python3",
      "display_name": "Python 3"
    },
    "language_info": {
      "name": "python"
    }
  },
  "cells": [
    {
      "cell_type": "code",
      "execution_count": null,
      "metadata": {
        "colab": {
          "base_uri": "https://localhost:8080/"
        },
        "id": "vFNKwNLaRfBv",
        "outputId": "743c8f8b-88a5-48a1-96fa-e6f2a8a29196"
      },
      "outputs": [
        {
          "output_type": "stream",
          "name": "stdout",
          "text": [
            "Mounted at /content/drive\n",
            "/content/drive/My Drive/Colab Notebooks\n"
          ]
        }
      ],
      "source": [
        "from google.colab import drive \n",
        "drive.mount('/content/drive')\n",
        "\n",
        "%cd /content/drive/My\\ Drive/Colab Notebooks"
      ]
    },
    {
      "cell_type": "code",
      "source": [
        "import numpy as np\n",
        "import pandas as pd\n",
        "import seaborn as sns\n",
        "import matplotlib.pyplot as plt\n",
        "from sklearn.ensemble import RandomForestClassifier\n",
        "from sklearn.datasets import make_classification\n",
        "from sklearn.preprocessing import MinMaxScaler\n",
        "from sklearn.model_selection import train_test_split\n",
        "from sklearn.model_selection import GridSearchCV\n",
        "from sklearn.metrics import roc_auc_score"
      ],
      "metadata": {
        "id": "FN4JABIXSLC-"
      },
      "execution_count": null,
      "outputs": []
    },
    {
      "cell_type": "code",
      "source": [
        "train_df = pd.read_csv('covid_train.csv')\n",
        "test_df = pd.read_csv('covid_test.csv')"
      ],
      "metadata": {
        "id": "xowcTm2NSdTd"
      },
      "execution_count": null,
      "outputs": []
    },
    {
      "cell_type": "code",
      "source": [
        "train_df.head()"
      ],
      "metadata": {
        "colab": {
          "base_uri": "https://localhost:8080/",
          "height": 206
        },
        "id": "q9cFABRiUL83",
        "outputId": "4557f43d-ee69-47da-f1c9-5c2c6f3eae34"
      },
      "execution_count": null,
      "outputs": [
        {
          "output_type": "execute_result",
          "data": {
            "text/plain": [
              "   age  dyspnea        NLR       LMR     CD8  Th.Ts    CD45  LDH     CK  \\\n",
              "0   76        1  19.187500  1.157994   11.49   2.09   67.12  483  115.0   \n",
              "1   68        1  10.789474  3.050739  104.27   0.44  321.51  488  152.7   \n",
              "2   77        1   8.626667  1.655191   31.16   2.01  131.60  709  153.4   \n",
              "3   71        1  23.962264  1.069929   64.08   3.62  653.26  573   64.5   \n",
              "4   80        1   5.466667  1.710311   59.27   1.15  360.08  342  411.0   \n",
              "\n",
              "     Myo  D.Dimer  class  death  survival predclass  \n",
              "0   28.0     0.62      0  0.990     0.010     death  \n",
              "1   48.9     9.79      0  0.982     0.018     death  \n",
              "2  354.0     0.63      0  1.000     0.000     death  \n",
              "3   47.5     5.14      0  0.994     0.006     death  \n",
              "4  189.0     0.95      0  0.998     0.002     death  "
            ],
            "text/html": [
              "\n",
              "  <div id=\"df-29ac2a56-50a4-4ecd-99b8-ee666755fbe5\">\n",
              "    <div class=\"colab-df-container\">\n",
              "      <div>\n",
              "<style scoped>\n",
              "    .dataframe tbody tr th:only-of-type {\n",
              "        vertical-align: middle;\n",
              "    }\n",
              "\n",
              "    .dataframe tbody tr th {\n",
              "        vertical-align: top;\n",
              "    }\n",
              "\n",
              "    .dataframe thead th {\n",
              "        text-align: right;\n",
              "    }\n",
              "</style>\n",
              "<table border=\"1\" class=\"dataframe\">\n",
              "  <thead>\n",
              "    <tr style=\"text-align: right;\">\n",
              "      <th></th>\n",
              "      <th>age</th>\n",
              "      <th>dyspnea</th>\n",
              "      <th>NLR</th>\n",
              "      <th>LMR</th>\n",
              "      <th>CD8</th>\n",
              "      <th>Th.Ts</th>\n",
              "      <th>CD45</th>\n",
              "      <th>LDH</th>\n",
              "      <th>CK</th>\n",
              "      <th>Myo</th>\n",
              "      <th>D.Dimer</th>\n",
              "      <th>class</th>\n",
              "      <th>death</th>\n",
              "      <th>survival</th>\n",
              "      <th>predclass</th>\n",
              "    </tr>\n",
              "  </thead>\n",
              "  <tbody>\n",
              "    <tr>\n",
              "      <th>0</th>\n",
              "      <td>76</td>\n",
              "      <td>1</td>\n",
              "      <td>19.187500</td>\n",
              "      <td>1.157994</td>\n",
              "      <td>11.49</td>\n",
              "      <td>2.09</td>\n",
              "      <td>67.12</td>\n",
              "      <td>483</td>\n",
              "      <td>115.0</td>\n",
              "      <td>28.0</td>\n",
              "      <td>0.62</td>\n",
              "      <td>0</td>\n",
              "      <td>0.990</td>\n",
              "      <td>0.010</td>\n",
              "      <td>death</td>\n",
              "    </tr>\n",
              "    <tr>\n",
              "      <th>1</th>\n",
              "      <td>68</td>\n",
              "      <td>1</td>\n",
              "      <td>10.789474</td>\n",
              "      <td>3.050739</td>\n",
              "      <td>104.27</td>\n",
              "      <td>0.44</td>\n",
              "      <td>321.51</td>\n",
              "      <td>488</td>\n",
              "      <td>152.7</td>\n",
              "      <td>48.9</td>\n",
              "      <td>9.79</td>\n",
              "      <td>0</td>\n",
              "      <td>0.982</td>\n",
              "      <td>0.018</td>\n",
              "      <td>death</td>\n",
              "    </tr>\n",
              "    <tr>\n",
              "      <th>2</th>\n",
              "      <td>77</td>\n",
              "      <td>1</td>\n",
              "      <td>8.626667</td>\n",
              "      <td>1.655191</td>\n",
              "      <td>31.16</td>\n",
              "      <td>2.01</td>\n",
              "      <td>131.60</td>\n",
              "      <td>709</td>\n",
              "      <td>153.4</td>\n",
              "      <td>354.0</td>\n",
              "      <td>0.63</td>\n",
              "      <td>0</td>\n",
              "      <td>1.000</td>\n",
              "      <td>0.000</td>\n",
              "      <td>death</td>\n",
              "    </tr>\n",
              "    <tr>\n",
              "      <th>3</th>\n",
              "      <td>71</td>\n",
              "      <td>1</td>\n",
              "      <td>23.962264</td>\n",
              "      <td>1.069929</td>\n",
              "      <td>64.08</td>\n",
              "      <td>3.62</td>\n",
              "      <td>653.26</td>\n",
              "      <td>573</td>\n",
              "      <td>64.5</td>\n",
              "      <td>47.5</td>\n",
              "      <td>5.14</td>\n",
              "      <td>0</td>\n",
              "      <td>0.994</td>\n",
              "      <td>0.006</td>\n",
              "      <td>death</td>\n",
              "    </tr>\n",
              "    <tr>\n",
              "      <th>4</th>\n",
              "      <td>80</td>\n",
              "      <td>1</td>\n",
              "      <td>5.466667</td>\n",
              "      <td>1.710311</td>\n",
              "      <td>59.27</td>\n",
              "      <td>1.15</td>\n",
              "      <td>360.08</td>\n",
              "      <td>342</td>\n",
              "      <td>411.0</td>\n",
              "      <td>189.0</td>\n",
              "      <td>0.95</td>\n",
              "      <td>0</td>\n",
              "      <td>0.998</td>\n",
              "      <td>0.002</td>\n",
              "      <td>death</td>\n",
              "    </tr>\n",
              "  </tbody>\n",
              "</table>\n",
              "</div>\n",
              "      <button class=\"colab-df-convert\" onclick=\"convertToInteractive('df-29ac2a56-50a4-4ecd-99b8-ee666755fbe5')\"\n",
              "              title=\"Convert this dataframe to an interactive table.\"\n",
              "              style=\"display:none;\">\n",
              "        \n",
              "  <svg xmlns=\"http://www.w3.org/2000/svg\" height=\"24px\"viewBox=\"0 0 24 24\"\n",
              "       width=\"24px\">\n",
              "    <path d=\"M0 0h24v24H0V0z\" fill=\"none\"/>\n",
              "    <path d=\"M18.56 5.44l.94 2.06.94-2.06 2.06-.94-2.06-.94-.94-2.06-.94 2.06-2.06.94zm-11 1L8.5 8.5l.94-2.06 2.06-.94-2.06-.94L8.5 2.5l-.94 2.06-2.06.94zm10 10l.94 2.06.94-2.06 2.06-.94-2.06-.94-.94-2.06-.94 2.06-2.06.94z\"/><path d=\"M17.41 7.96l-1.37-1.37c-.4-.4-.92-.59-1.43-.59-.52 0-1.04.2-1.43.59L10.3 9.45l-7.72 7.72c-.78.78-.78 2.05 0 2.83L4 21.41c.39.39.9.59 1.41.59.51 0 1.02-.2 1.41-.59l7.78-7.78 2.81-2.81c.8-.78.8-2.07 0-2.86zM5.41 20L4 18.59l7.72-7.72 1.47 1.35L5.41 20z\"/>\n",
              "  </svg>\n",
              "      </button>\n",
              "      \n",
              "  <style>\n",
              "    .colab-df-container {\n",
              "      display:flex;\n",
              "      flex-wrap:wrap;\n",
              "      gap: 12px;\n",
              "    }\n",
              "\n",
              "    .colab-df-convert {\n",
              "      background-color: #E8F0FE;\n",
              "      border: none;\n",
              "      border-radius: 50%;\n",
              "      cursor: pointer;\n",
              "      display: none;\n",
              "      fill: #1967D2;\n",
              "      height: 32px;\n",
              "      padding: 0 0 0 0;\n",
              "      width: 32px;\n",
              "    }\n",
              "\n",
              "    .colab-df-convert:hover {\n",
              "      background-color: #E2EBFA;\n",
              "      box-shadow: 0px 1px 2px rgba(60, 64, 67, 0.3), 0px 1px 3px 1px rgba(60, 64, 67, 0.15);\n",
              "      fill: #174EA6;\n",
              "    }\n",
              "\n",
              "    [theme=dark] .colab-df-convert {\n",
              "      background-color: #3B4455;\n",
              "      fill: #D2E3FC;\n",
              "    }\n",
              "\n",
              "    [theme=dark] .colab-df-convert:hover {\n",
              "      background-color: #434B5C;\n",
              "      box-shadow: 0px 1px 3px 1px rgba(0, 0, 0, 0.15);\n",
              "      filter: drop-shadow(0px 1px 2px rgba(0, 0, 0, 0.3));\n",
              "      fill: #FFFFFF;\n",
              "    }\n",
              "  </style>\n",
              "\n",
              "      <script>\n",
              "        const buttonEl =\n",
              "          document.querySelector('#df-29ac2a56-50a4-4ecd-99b8-ee666755fbe5 button.colab-df-convert');\n",
              "        buttonEl.style.display =\n",
              "          google.colab.kernel.accessAllowed ? 'block' : 'none';\n",
              "\n",
              "        async function convertToInteractive(key) {\n",
              "          const element = document.querySelector('#df-29ac2a56-50a4-4ecd-99b8-ee666755fbe5');\n",
              "          const dataTable =\n",
              "            await google.colab.kernel.invokeFunction('convertToInteractive',\n",
              "                                                     [key], {});\n",
              "          if (!dataTable) return;\n",
              "\n",
              "          const docLinkHtml = 'Like what you see? Visit the ' +\n",
              "            '<a target=\"_blank\" href=https://colab.research.google.com/notebooks/data_table.ipynb>data table notebook</a>'\n",
              "            + ' to learn more about interactive tables.';\n",
              "          element.innerHTML = '';\n",
              "          dataTable['output_type'] = 'display_data';\n",
              "          await google.colab.output.renderOutput(dataTable, element);\n",
              "          const docLink = document.createElement('div');\n",
              "          docLink.innerHTML = docLinkHtml;\n",
              "          element.appendChild(docLink);\n",
              "        }\n",
              "      </script>\n",
              "    </div>\n",
              "  </div>\n",
              "  "
            ]
          },
          "metadata": {},
          "execution_count": 77
        }
      ]
    },
    {
      "cell_type": "code",
      "source": [
        "print('\\nNull Values in Training \\n{}'.format(train_df.isna().sum()))\n",
        "print('\\nNull Values in Testing \\n{}'.format(test_df.isna().sum()))\n",
        "\n",
        "print('\\nDuplicated values in train {}'.format(train_df.duplicated().sum()))\n",
        "print('Duplicated values in test {}'.format(test_df.duplicated().sum()))"
      ],
      "metadata": {
        "id": "3VUorsCJbmkA"
      },
      "execution_count": null,
      "outputs": []
    },
    {
      "cell_type": "code",
      "source": [
        "train_df.dtypes"
      ],
      "metadata": {
        "id": "aN2pKwxwb8BI"
      },
      "execution_count": null,
      "outputs": []
    },
    {
      "cell_type": "code",
      "source": [
        "train_df['class'] = [0 if 'death' in i else 1 for i in train_df['class']]\n",
        "test_df['class'] = [0 if 'death' in i else 1 for i in train_df['class']]"
      ],
      "metadata": {
        "colab": {
          "base_uri": "https://localhost:8080/",
          "height": 424
        },
        "id": "V_al9IaOcvYc",
        "outputId": "d0240801-0898-43e6-d613-d5bb4a367773"
      },
      "execution_count": null,
      "outputs": [
        {
          "output_type": "execute_result",
          "data": {
            "text/plain": [
              "     age  dyspnea        NLR       LMR     CD8  Th.Ts    CD45  LDH     CK  \\\n",
              "0     76        1  19.187500  1.157994   11.49   2.09   67.12  483  115.0   \n",
              "1     68        1  10.789474  3.050739  104.27   0.44  321.51  488  152.7   \n",
              "2     77        1   8.626667  1.655191   31.16   2.01  131.60  709  153.4   \n",
              "3     71        1  23.962264  1.069929   64.08   3.62  653.26  573   64.5   \n",
              "4     80        1   5.466667  1.710311   59.27   1.15  360.08  342  411.0   \n",
              "..   ...      ...        ...       ...     ...    ...     ...  ...    ...   \n",
              "161   68        1   8.117647  1.686977  118.53   1.74  529.78  233   59.0   \n",
              "162   56        1   4.474576  5.336952  194.01   0.41  474.70  272  174.4   \n",
              "163   55        1   2.652778  2.033898   93.29   1.01  361.53  441  116.0   \n",
              "164   51        1   5.466667  1.904762  146.88   0.66  418.70  206   35.3   \n",
              "165   53        1  11.296703  1.683626  120.89   0.98  662.22  597  100.7   \n",
              "\n",
              "       Myo  D.Dimer  class  \n",
              "0     28.0     0.62      0  \n",
              "1     48.9     9.79      0  \n",
              "2    354.0     0.63      0  \n",
              "3     47.5     5.14      0  \n",
              "4    189.0     0.95      0  \n",
              "..     ...      ...    ...  \n",
              "161   27.2     1.07      1  \n",
              "162   27.2     0.09      1  \n",
              "163   29.1     2.09      1  \n",
              "164   29.5     0.50      1  \n",
              "165   38.0     1.56      1  \n",
              "\n",
              "[166 rows x 12 columns]"
            ],
            "text/html": [
              "\n",
              "  <div id=\"df-c53d2c50-70d4-4e1d-98cf-3b1ca39a47ee\">\n",
              "    <div class=\"colab-df-container\">\n",
              "      <div>\n",
              "<style scoped>\n",
              "    .dataframe tbody tr th:only-of-type {\n",
              "        vertical-align: middle;\n",
              "    }\n",
              "\n",
              "    .dataframe tbody tr th {\n",
              "        vertical-align: top;\n",
              "    }\n",
              "\n",
              "    .dataframe thead th {\n",
              "        text-align: right;\n",
              "    }\n",
              "</style>\n",
              "<table border=\"1\" class=\"dataframe\">\n",
              "  <thead>\n",
              "    <tr style=\"text-align: right;\">\n",
              "      <th></th>\n",
              "      <th>age</th>\n",
              "      <th>dyspnea</th>\n",
              "      <th>NLR</th>\n",
              "      <th>LMR</th>\n",
              "      <th>CD8</th>\n",
              "      <th>Th.Ts</th>\n",
              "      <th>CD45</th>\n",
              "      <th>LDH</th>\n",
              "      <th>CK</th>\n",
              "      <th>Myo</th>\n",
              "      <th>D.Dimer</th>\n",
              "      <th>class</th>\n",
              "    </tr>\n",
              "  </thead>\n",
              "  <tbody>\n",
              "    <tr>\n",
              "      <th>0</th>\n",
              "      <td>76</td>\n",
              "      <td>1</td>\n",
              "      <td>19.187500</td>\n",
              "      <td>1.157994</td>\n",
              "      <td>11.49</td>\n",
              "      <td>2.09</td>\n",
              "      <td>67.12</td>\n",
              "      <td>483</td>\n",
              "      <td>115.0</td>\n",
              "      <td>28.0</td>\n",
              "      <td>0.62</td>\n",
              "      <td>0</td>\n",
              "    </tr>\n",
              "    <tr>\n",
              "      <th>1</th>\n",
              "      <td>68</td>\n",
              "      <td>1</td>\n",
              "      <td>10.789474</td>\n",
              "      <td>3.050739</td>\n",
              "      <td>104.27</td>\n",
              "      <td>0.44</td>\n",
              "      <td>321.51</td>\n",
              "      <td>488</td>\n",
              "      <td>152.7</td>\n",
              "      <td>48.9</td>\n",
              "      <td>9.79</td>\n",
              "      <td>0</td>\n",
              "    </tr>\n",
              "    <tr>\n",
              "      <th>2</th>\n",
              "      <td>77</td>\n",
              "      <td>1</td>\n",
              "      <td>8.626667</td>\n",
              "      <td>1.655191</td>\n",
              "      <td>31.16</td>\n",
              "      <td>2.01</td>\n",
              "      <td>131.60</td>\n",
              "      <td>709</td>\n",
              "      <td>153.4</td>\n",
              "      <td>354.0</td>\n",
              "      <td>0.63</td>\n",
              "      <td>0</td>\n",
              "    </tr>\n",
              "    <tr>\n",
              "      <th>3</th>\n",
              "      <td>71</td>\n",
              "      <td>1</td>\n",
              "      <td>23.962264</td>\n",
              "      <td>1.069929</td>\n",
              "      <td>64.08</td>\n",
              "      <td>3.62</td>\n",
              "      <td>653.26</td>\n",
              "      <td>573</td>\n",
              "      <td>64.5</td>\n",
              "      <td>47.5</td>\n",
              "      <td>5.14</td>\n",
              "      <td>0</td>\n",
              "    </tr>\n",
              "    <tr>\n",
              "      <th>4</th>\n",
              "      <td>80</td>\n",
              "      <td>1</td>\n",
              "      <td>5.466667</td>\n",
              "      <td>1.710311</td>\n",
              "      <td>59.27</td>\n",
              "      <td>1.15</td>\n",
              "      <td>360.08</td>\n",
              "      <td>342</td>\n",
              "      <td>411.0</td>\n",
              "      <td>189.0</td>\n",
              "      <td>0.95</td>\n",
              "      <td>0</td>\n",
              "    </tr>\n",
              "    <tr>\n",
              "      <th>...</th>\n",
              "      <td>...</td>\n",
              "      <td>...</td>\n",
              "      <td>...</td>\n",
              "      <td>...</td>\n",
              "      <td>...</td>\n",
              "      <td>...</td>\n",
              "      <td>...</td>\n",
              "      <td>...</td>\n",
              "      <td>...</td>\n",
              "      <td>...</td>\n",
              "      <td>...</td>\n",
              "      <td>...</td>\n",
              "    </tr>\n",
              "    <tr>\n",
              "      <th>161</th>\n",
              "      <td>68</td>\n",
              "      <td>1</td>\n",
              "      <td>8.117647</td>\n",
              "      <td>1.686977</td>\n",
              "      <td>118.53</td>\n",
              "      <td>1.74</td>\n",
              "      <td>529.78</td>\n",
              "      <td>233</td>\n",
              "      <td>59.0</td>\n",
              "      <td>27.2</td>\n",
              "      <td>1.07</td>\n",
              "      <td>1</td>\n",
              "    </tr>\n",
              "    <tr>\n",
              "      <th>162</th>\n",
              "      <td>56</td>\n",
              "      <td>1</td>\n",
              "      <td>4.474576</td>\n",
              "      <td>5.336952</td>\n",
              "      <td>194.01</td>\n",
              "      <td>0.41</td>\n",
              "      <td>474.70</td>\n",
              "      <td>272</td>\n",
              "      <td>174.4</td>\n",
              "      <td>27.2</td>\n",
              "      <td>0.09</td>\n",
              "      <td>1</td>\n",
              "    </tr>\n",
              "    <tr>\n",
              "      <th>163</th>\n",
              "      <td>55</td>\n",
              "      <td>1</td>\n",
              "      <td>2.652778</td>\n",
              "      <td>2.033898</td>\n",
              "      <td>93.29</td>\n",
              "      <td>1.01</td>\n",
              "      <td>361.53</td>\n",
              "      <td>441</td>\n",
              "      <td>116.0</td>\n",
              "      <td>29.1</td>\n",
              "      <td>2.09</td>\n",
              "      <td>1</td>\n",
              "    </tr>\n",
              "    <tr>\n",
              "      <th>164</th>\n",
              "      <td>51</td>\n",
              "      <td>1</td>\n",
              "      <td>5.466667</td>\n",
              "      <td>1.904762</td>\n",
              "      <td>146.88</td>\n",
              "      <td>0.66</td>\n",
              "      <td>418.70</td>\n",
              "      <td>206</td>\n",
              "      <td>35.3</td>\n",
              "      <td>29.5</td>\n",
              "      <td>0.50</td>\n",
              "      <td>1</td>\n",
              "    </tr>\n",
              "    <tr>\n",
              "      <th>165</th>\n",
              "      <td>53</td>\n",
              "      <td>1</td>\n",
              "      <td>11.296703</td>\n",
              "      <td>1.683626</td>\n",
              "      <td>120.89</td>\n",
              "      <td>0.98</td>\n",
              "      <td>662.22</td>\n",
              "      <td>597</td>\n",
              "      <td>100.7</td>\n",
              "      <td>38.0</td>\n",
              "      <td>1.56</td>\n",
              "      <td>1</td>\n",
              "    </tr>\n",
              "  </tbody>\n",
              "</table>\n",
              "<p>166 rows × 12 columns</p>\n",
              "</div>\n",
              "      <button class=\"colab-df-convert\" onclick=\"convertToInteractive('df-c53d2c50-70d4-4e1d-98cf-3b1ca39a47ee')\"\n",
              "              title=\"Convert this dataframe to an interactive table.\"\n",
              "              style=\"display:none;\">\n",
              "        \n",
              "  <svg xmlns=\"http://www.w3.org/2000/svg\" height=\"24px\"viewBox=\"0 0 24 24\"\n",
              "       width=\"24px\">\n",
              "    <path d=\"M0 0h24v24H0V0z\" fill=\"none\"/>\n",
              "    <path d=\"M18.56 5.44l.94 2.06.94-2.06 2.06-.94-2.06-.94-.94-2.06-.94 2.06-2.06.94zm-11 1L8.5 8.5l.94-2.06 2.06-.94-2.06-.94L8.5 2.5l-.94 2.06-2.06.94zm10 10l.94 2.06.94-2.06 2.06-.94-2.06-.94-.94-2.06-.94 2.06-2.06.94z\"/><path d=\"M17.41 7.96l-1.37-1.37c-.4-.4-.92-.59-1.43-.59-.52 0-1.04.2-1.43.59L10.3 9.45l-7.72 7.72c-.78.78-.78 2.05 0 2.83L4 21.41c.39.39.9.59 1.41.59.51 0 1.02-.2 1.41-.59l7.78-7.78 2.81-2.81c.8-.78.8-2.07 0-2.86zM5.41 20L4 18.59l7.72-7.72 1.47 1.35L5.41 20z\"/>\n",
              "  </svg>\n",
              "      </button>\n",
              "      \n",
              "  <style>\n",
              "    .colab-df-container {\n",
              "      display:flex;\n",
              "      flex-wrap:wrap;\n",
              "      gap: 12px;\n",
              "    }\n",
              "\n",
              "    .colab-df-convert {\n",
              "      background-color: #E8F0FE;\n",
              "      border: none;\n",
              "      border-radius: 50%;\n",
              "      cursor: pointer;\n",
              "      display: none;\n",
              "      fill: #1967D2;\n",
              "      height: 32px;\n",
              "      padding: 0 0 0 0;\n",
              "      width: 32px;\n",
              "    }\n",
              "\n",
              "    .colab-df-convert:hover {\n",
              "      background-color: #E2EBFA;\n",
              "      box-shadow: 0px 1px 2px rgba(60, 64, 67, 0.3), 0px 1px 3px 1px rgba(60, 64, 67, 0.15);\n",
              "      fill: #174EA6;\n",
              "    }\n",
              "\n",
              "    [theme=dark] .colab-df-convert {\n",
              "      background-color: #3B4455;\n",
              "      fill: #D2E3FC;\n",
              "    }\n",
              "\n",
              "    [theme=dark] .colab-df-convert:hover {\n",
              "      background-color: #434B5C;\n",
              "      box-shadow: 0px 1px 3px 1px rgba(0, 0, 0, 0.15);\n",
              "      filter: drop-shadow(0px 1px 2px rgba(0, 0, 0, 0.3));\n",
              "      fill: #FFFFFF;\n",
              "    }\n",
              "  </style>\n",
              "\n",
              "      <script>\n",
              "        const buttonEl =\n",
              "          document.querySelector('#df-c53d2c50-70d4-4e1d-98cf-3b1ca39a47ee button.colab-df-convert');\n",
              "        buttonEl.style.display =\n",
              "          google.colab.kernel.accessAllowed ? 'block' : 'none';\n",
              "\n",
              "        async function convertToInteractive(key) {\n",
              "          const element = document.querySelector('#df-c53d2c50-70d4-4e1d-98cf-3b1ca39a47ee');\n",
              "          const dataTable =\n",
              "            await google.colab.kernel.invokeFunction('convertToInteractive',\n",
              "                                                     [key], {});\n",
              "          if (!dataTable) return;\n",
              "\n",
              "          const docLinkHtml = 'Like what you see? Visit the ' +\n",
              "            '<a target=\"_blank\" href=https://colab.research.google.com/notebooks/data_table.ipynb>data table notebook</a>'\n",
              "            + ' to learn more about interactive tables.';\n",
              "          element.innerHTML = '';\n",
              "          dataTable['output_type'] = 'display_data';\n",
              "          await google.colab.output.renderOutput(dataTable, element);\n",
              "          const docLink = document.createElement('div');\n",
              "          docLink.innerHTML = docLinkHtml;\n",
              "          element.appendChild(docLink);\n",
              "        }\n",
              "      </script>\n",
              "    </div>\n",
              "  </div>\n",
              "  "
            ]
          },
          "metadata": {},
          "execution_count": 85
        }
      ]
    },
    {
      "cell_type": "code",
      "source": [
        "figure, axis = plt.subplots(4, 4, figsize=(14,14))\n",
        "\n",
        "for i,col in enumerate(train_df.columns):\n",
        "  ax = axis[i//4,i%4]\n",
        "  ax.hist(train_df[col])\n",
        "  ax.set_xlabel(col)\n",
        "axis[3,3].set_axis_off()"
      ],
      "metadata": {
        "colab": {
          "base_uri": "https://localhost:8080/",
          "height": 823
        },
        "id": "Wg79-pBroWX7",
        "outputId": "1d2a9ef0-fc73-47d2-949b-e64344413172"
      },
      "execution_count": null,
      "outputs": [
        {
          "output_type": "display_data",
          "data": {
            "text/plain": [
              "<Figure size 1008x1008 with 16 Axes>"
            ],
            "image/png": "[encoded data removed]"
          },
          "metadata": {
            "needs_background": "light"
          }
        }
      ]
    },
    {
      "cell_type": "code",
      "source": [
        "sns.pairplot(train_df,\n",
        "             vars=['NLR','LMR',\n",
        "                   'CD8','CD45','Th.Ts'])"
      ],
      "metadata": {
        "colab": {
          "base_uri": "https://localhost:8080/",
          "height": 921
        },
        "id": "voLZAXxOvlsF",
        "outputId": "c5208b7d-4dac-4b14-a508-836feaa2ee09"
      },
      "execution_count": null,
      "outputs": [
        {
          "output_type": "execute_result",
          "data": {
            "text/plain": [
              "<seaborn.axisgrid.PairGrid at 0x7f37c15643a0>"
            ]
          },
          "metadata": {},
          "execution_count": 41
        },
        {
          "output_type": "display_data",
          "data": {
            "text/plain": [
              "<Figure size 900x900 with 30 Axes>"
            ],
            "image/png": "[encoded data removed]"
          },
          "metadata": {
            "needs_background": "light"
          }
        }
      ]
    },
    {
      "cell_type": "code",
      "source": [
        "train_df_corr = train_df[['NLR','LMR','CD8','CD45','Th.Ts']].corr()\n",
        "sns.heatmap(train_df_corr, annot=True)"
      ],
      "metadata": {
        "colab": {
          "base_uri": "https://localhost:8080/",
          "height": 287
        },
        "id": "DBoKmquCmWad",
        "outputId": "df8f400e-1727-44ef-af03-b3495ffe897b"
      },
      "execution_count": null,
      "outputs": [
        {
          "output_type": "execute_result",
          "data": {
            "text/plain": [
              "<matplotlib.axes._subplots.AxesSubplot at 0x7f37bf143c10>"
            ]
          },
          "metadata": {},
          "execution_count": 49
        },
        {
          "output_type": "display_data",
          "data": {
            "text/plain": [
              "<Figure size 432x288 with 2 Axes>"
            ],
            "image/png": "[encoded data removed]"
          },
          "metadata": {
            "needs_background": "light"
          }
        }
      ]
    },
    {
      "cell_type": "code",
      "source": [
        "y = train_df['class']\n",
        "X = train_df.drop(['class','death','survival','predclass'], axis=1)\n",
        "#X.head()\n",
        "y_test = test_df['class']\n",
        "X_test = test_df.drop(['class','death','survival','predclass'], axis=1)"
      ],
      "metadata": {
        "id": "6XaKQJSNMi24"
      },
      "execution_count": null,
      "outputs": []
    },
    {
      "cell_type": "code",
      "source": [
        "y.head()"
      ],
      "metadata": {
        "colab": {
          "base_uri": "https://localhost:8080/"
        },
        "id": "qfvodSrVlgYM",
        "outputId": "e2b74a75-a616-49b4-962d-b98f309b1748"
      },
      "execution_count": null,
      "outputs": [
        {
          "output_type": "execute_result",
          "data": {
            "text/plain": [
              "0    0\n",
              "1    0\n",
              "2    0\n",
              "3    0\n",
              "4    0\n",
              "Name: class, dtype: int64"
            ]
          },
          "metadata": {},
          "execution_count": 88
        }
      ]
    },
    {
      "cell_type": "code",
      "source": [
        "test_df.head()"
      ],
      "metadata": {
        "colab": {
          "base_uri": "https://localhost:8080/",
          "height": 206
        },
        "id": "ZdWD4ERUsIJE",
        "outputId": "4f93a495-aa6c-4779-8625-818659da7751"
      },
      "execution_count": null,
      "outputs": [
        {
          "output_type": "execute_result",
          "data": {
            "text/plain": [
              "   age  dyspnea        NLR       LMR     CD8  Th.Ts    CD45  LDH     CK  \\\n",
              "0   62        1  35.571429  0.673077   25.38   2.17  126.81  337   18.0   \n",
              "1   70        1   8.187500  3.293808  109.32   1.50  483.72  566  380.0   \n",
              "2   72        1  18.500000  0.748669   45.47   2.51  293.17  344   50.4   \n",
              "3   53        0   3.270270  3.915344   59.73   4.80  636.17  827   98.0   \n",
              "4   77        1   8.626667  1.655191   31.16   2.01  131.60  709  153.4   \n",
              "\n",
              "     Myo  D.Dimer  class  death  survival predclass  \n",
              "0   20.0     0.50  death  0.956     0.044     death  \n",
              "1   55.8     0.46  death  0.978     0.022     death  \n",
              "2   22.6     0.22  death  0.898     0.102     death  \n",
              "3   70.0    17.80  death  0.978     0.022     death  \n",
              "4  354.0     0.63  death  1.000     0.000     death  "
            ],
            "text/html": [
              "\n",
              "  <div id=\"df-0e4ba9ea-551c-4fe4-9600-d08174c9362d\">\n",
              "    <div class=\"colab-df-container\">\n",
              "      <div>\n",
              "<style scoped>\n",
              "    .dataframe tbody tr th:only-of-type {\n",
              "        vertical-align: middle;\n",
              "    }\n",
              "\n",
              "    .dataframe tbody tr th {\n",
              "        vertical-align: top;\n",
              "    }\n",
              "\n",
              "    .dataframe thead th {\n",
              "        text-align: right;\n",
              "    }\n",
              "</style>\n",
              "<table border=\"1\" class=\"dataframe\">\n",
              "  <thead>\n",
              "    <tr style=\"text-align: right;\">\n",
              "      <th></th>\n",
              "      <th>age</th>\n",
              "      <th>dyspnea</th>\n",
              "      <th>NLR</th>\n",
              "      <th>LMR</th>\n",
              "      <th>CD8</th>\n",
              "      <th>Th.Ts</th>\n",
              "      <th>CD45</th>\n",
              "      <th>LDH</th>\n",
              "      <th>CK</th>\n",
              "      <th>Myo</th>\n",
              "      <th>D.Dimer</th>\n",
              "      <th>class</th>\n",
              "      <th>death</th>\n",
              "      <th>survival</th>\n",
              "      <th>predclass</th>\n",
              "    </tr>\n",
              "  </thead>\n",
              "  <tbody>\n",
              "    <tr>\n",
              "      <th>0</th>\n",
              "      <td>62</td>\n",
              "      <td>1</td>\n",
              "      <td>35.571429</td>\n",
              "      <td>0.673077</td>\n",
              "      <td>25.38</td>\n",
              "      <td>2.17</td>\n",
              "      <td>126.81</td>\n",
              "      <td>337</td>\n",
              "      <td>18.0</td>\n",
              "      <td>20.0</td>\n",
              "      <td>0.50</td>\n",
              "      <td>death</td>\n",
              "      <td>0.956</td>\n",
              "      <td>0.044</td>\n",
              "      <td>death</td>\n",
              "    </tr>\n",
              "    <tr>\n",
              "      <th>1</th>\n",
              "      <td>70</td>\n",
              "      <td>1</td>\n",
              "      <td>8.187500</td>\n",
              "      <td>3.293808</td>\n",
              "      <td>109.32</td>\n",
              "      <td>1.50</td>\n",
              "      <td>483.72</td>\n",
              "      <td>566</td>\n",
              "      <td>380.0</td>\n",
              "      <td>55.8</td>\n",
              "      <td>0.46</td>\n",
              "      <td>death</td>\n",
              "      <td>0.978</td>\n",
              "      <td>0.022</td>\n",
              "      <td>death</td>\n",
              "    </tr>\n",
              "    <tr>\n",
              "      <th>2</th>\n",
              "      <td>72</td>\n",
              "      <td>1</td>\n",
              "      <td>18.500000</td>\n",
              "      <td>0.748669</td>\n",
              "      <td>45.47</td>\n",
              "      <td>2.51</td>\n",
              "      <td>293.17</td>\n",
              "      <td>344</td>\n",
              "      <td>50.4</td>\n",
              "      <td>22.6</td>\n",
              "      <td>0.22</td>\n",
              "      <td>death</td>\n",
              "      <td>0.898</td>\n",
              "      <td>0.102</td>\n",
              "      <td>death</td>\n",
              "    </tr>\n",
              "    <tr>\n",
              "      <th>3</th>\n",
              "      <td>53</td>\n",
              "      <td>0</td>\n",
              "      <td>3.270270</td>\n",
              "      <td>3.915344</td>\n",
              "      <td>59.73</td>\n",
              "      <td>4.80</td>\n",
              "      <td>636.17</td>\n",
              "      <td>827</td>\n",
              "      <td>98.0</td>\n",
              "      <td>70.0</td>\n",
              "      <td>17.80</td>\n",
              "      <td>death</td>\n",
              "      <td>0.978</td>\n",
              "      <td>0.022</td>\n",
              "      <td>death</td>\n",
              "    </tr>\n",
              "    <tr>\n",
              "      <th>4</th>\n",
              "      <td>77</td>\n",
              "      <td>1</td>\n",
              "      <td>8.626667</td>\n",
              "      <td>1.655191</td>\n",
              "      <td>31.16</td>\n",
              "      <td>2.01</td>\n",
              "      <td>131.60</td>\n",
              "      <td>709</td>\n",
              "      <td>153.4</td>\n",
              "      <td>354.0</td>\n",
              "      <td>0.63</td>\n",
              "      <td>death</td>\n",
              "      <td>1.000</td>\n",
              "      <td>0.000</td>\n",
              "      <td>death</td>\n",
              "    </tr>\n",
              "  </tbody>\n",
              "</table>\n",
              "</div>\n",
              "      <button class=\"colab-df-convert\" onclick=\"convertToInteractive('df-0e4ba9ea-551c-4fe4-9600-d08174c9362d')\"\n",
              "              title=\"Convert this dataframe to an interactive table.\"\n",
              "              style=\"display:none;\">\n",
              "        \n",
              "  <svg xmlns=\"http://www.w3.org/2000/svg\" height=\"24px\"viewBox=\"0 0 24 24\"\n",
              "       width=\"24px\">\n",
              "    <path d=\"M0 0h24v24H0V0z\" fill=\"none\"/>\n",
              "    <path d=\"M18.56 5.44l.94 2.06.94-2.06 2.06-.94-2.06-.94-.94-2.06-.94 2.06-2.06.94zm-11 1L8.5 8.5l.94-2.06 2.06-.94-2.06-.94L8.5 2.5l-.94 2.06-2.06.94zm10 10l.94 2.06.94-2.06 2.06-.94-2.06-.94-.94-2.06-.94 2.06-2.06.94z\"/><path d=\"M17.41 7.96l-1.37-1.37c-.4-.4-.92-.59-1.43-.59-.52 0-1.04.2-1.43.59L10.3 9.45l-7.72 7.72c-.78.78-.78 2.05 0 2.83L4 21.41c.39.39.9.59 1.41.59.51 0 1.02-.2 1.41-.59l7.78-7.78 2.81-2.81c.8-.78.8-2.07 0-2.86zM5.41 20L4 18.59l7.72-7.72 1.47 1.35L5.41 20z\"/>\n",
              "  </svg>\n",
              "      </button>\n",
              "      \n",
              "  <style>\n",
              "    .colab-df-container {\n",
              "      display:flex;\n",
              "      flex-wrap:wrap;\n",
              "      gap: 12px;\n",
              "    }\n",
              "\n",
              "    .colab-df-convert {\n",
              "      background-color: #E8F0FE;\n",
              "      border: none;\n",
              "      border-radius: 50%;\n",
              "      cursor: pointer;\n",
              "      display: none;\n",
              "      fill: #1967D2;\n",
              "      height: 32px;\n",
              "      padding: 0 0 0 0;\n",
              "      width: 32px;\n",
              "    }\n",
              "\n",
              "    .colab-df-convert:hover {\n",
              "      background-color: #E2EBFA;\n",
              "      box-shadow: 0px 1px 2px rgba(60, 64, 67, 0.3), 0px 1px 3px 1px rgba(60, 64, 67, 0.15);\n",
              "      fill: #174EA6;\n",
              "    }\n",
              "\n",
              "    [theme=dark] .colab-df-convert {\n",
              "      background-color: #3B4455;\n",
              "      fill: #D2E3FC;\n",
              "    }\n",
              "\n",
              "    [theme=dark] .colab-df-convert:hover {\n",
              "      background-color: #434B5C;\n",
              "      box-shadow: 0px 1px 3px 1px rgba(0, 0, 0, 0.15);\n",
              "      filter: drop-shadow(0px 1px 2px rgba(0, 0, 0, 0.3));\n",
              "      fill: #FFFFFF;\n",
              "    }\n",
              "  </style>\n",
              "\n",
              "      <script>\n",
              "        const buttonEl =\n",
              "          document.querySelector('#df-0e4ba9ea-551c-4fe4-9600-d08174c9362d button.colab-df-convert');\n",
              "        buttonEl.style.display =\n",
              "          google.colab.kernel.accessAllowed ? 'block' : 'none';\n",
              "\n",
              "        async function convertToInteractive(key) {\n",
              "          const element = document.querySelector('#df-0e4ba9ea-551c-4fe4-9600-d08174c9362d');\n",
              "          const dataTable =\n",
              "            await google.colab.kernel.invokeFunction('convertToInteractive',\n",
              "                                                     [key], {});\n",
              "          if (!dataTable) return;\n",
              "\n",
              "          const docLinkHtml = 'Like what you see? Visit the ' +\n",
              "            '<a target=\"_blank\" href=https://colab.research.google.com/notebooks/data_table.ipynb>data table notebook</a>'\n",
              "            + ' to learn more about interactive tables.';\n",
              "          element.innerHTML = '';\n",
              "          dataTable['output_type'] = 'display_data';\n",
              "          await google.colab.output.renderOutput(dataTable, element);\n",
              "          const docLink = document.createElement('div');\n",
              "          docLink.innerHTML = docLinkHtml;\n",
              "          element.appendChild(docLink);\n",
              "        }\n",
              "      </script>\n",
              "    </div>\n",
              "  </div>\n",
              "  "
            ]
          },
          "metadata": {},
          "execution_count": 101
        }
      ]
    },
    {
      "cell_type": "code",
      "source": [
        "X_train, X_val, y_train, y_val = train_test_split(X, y, test_size=0.20)\n",
        "X_test = test_df[]"
      ],
      "metadata": {
        "id": "anQf08Em8r4L"
      },
      "execution_count": null,
      "outputs": []
    },
    {
      "cell_type": "code",
      "source": [
        "# Number of trees in random forest\n",
        "n_estimators = [int(x) for x in np.linspace(start = 10, stop = 150, num = 10)]\n",
        "# Number of features to consider at every split\n",
        "max_features = ['auto', 'sqrt']\n",
        "# Maximum number of levels in tree\n",
        "max_depth = [8,13]\n",
        "# Minimum number of samples required to split a node\n",
        "min_samples_split = [2, 5]\n",
        "# Minimum number of samples required at each leaf node\n",
        "min_samples_leaf = [1, 2]\n",
        "# Method of selecting samples for training each tree\n",
        "bootstrap = [True, False]"
      ],
      "metadata": {
        "id": "Mw4PMwtu65l5"
      },
      "execution_count": null,
      "outputs": []
    },
    {
      "cell_type": "code",
      "source": [
        "# Create the param grid\n",
        "param_grid = {'n_estimators': n_estimators,\n",
        "               'max_features': max_features,\n",
        "               'max_depth': max_depth,\n",
        "               'min_samples_split': min_samples_split,\n",
        "               'min_samples_leaf': min_samples_leaf,\n",
        "               'bootstrap': bootstrap}"
      ],
      "metadata": {
        "id": "-uPhFB7UDTJ5"
      },
      "execution_count": null,
      "outputs": []
    },
    {
      "cell_type": "code",
      "source": [
        "rf_Model = RandomForestClassifier()"
      ],
      "metadata": {
        "id": "lOhJuW07DXwQ"
      },
      "execution_count": null,
      "outputs": []
    },
    {
      "cell_type": "code",
      "source": [
        "rf_Grid = GridSearchCV(estimator = rf_Model,\n",
        "                       param_grid = param_grid, \n",
        "                       cv = 10,scoring ='roc_auc', \n",
        "                       verbose=2, \n",
        "                       n_jobs = 4)\n",
        "rf_Grid.fit(X_train, y_train)"
      ],
      "metadata": {
        "colab": {
          "base_uri": "https://localhost:8080/"
        },
        "id": "Xce621xrkbpe",
        "outputId": "723e2407-ca68-4363-a652-e7625e70310b"
      },
      "execution_count": null,
      "outputs": [
        {
          "output_type": "stream",
          "name": "stdout",
          "text": [
            "Fitting 10 folds for each of 320 candidates, totalling 3200 fits\n"
          ]
        },
        {
          "output_type": "execute_result",
          "data": {
            "text/plain": [
              "GridSearchCV(cv=10, estimator=RandomForestClassifier(), n_jobs=4,\n",
              "             param_grid={'bootstrap': [True, False], 'max_depth': [8, 13],\n",
              "                         'max_features': ['auto', 'sqrt'],\n",
              "                         'min_samples_leaf': [1, 2],\n",
              "                         'min_samples_split': [2, 5],\n",
              "                         'n_estimators': [10, 25, 41, 56, 72, 87, 103, 118, 134,\n",
              "                                          150]},\n",
              "             scoring='roc_auc', verbose=2)"
            ]
          },
          "metadata": {},
          "execution_count": 93
        }
      ]
    },
    {
      "cell_type": "code",
      "source": [
        "#print (f'roc/auc: {rf_Grid.score(y_train,rf_Model_best.predict(X_train)):.3f}')"
      ],
      "metadata": {
        "id": "_sKHpJrQlAbR"
      },
      "execution_count": null,
      "outputs": []
    },
    {
      "cell_type": "code",
      "source": [
        "rf_Grid.best_params_"
      ],
      "metadata": {
        "colab": {
          "base_uri": "https://localhost:8080/"
        },
        "id": "XvHyJDAHkiIT",
        "outputId": "73886851-bb94-4fa4-cd96-48d57f960d67"
      },
      "execution_count": null,
      "outputs": [
        {
          "output_type": "execute_result",
          "data": {
            "text/plain": [
              "{'bootstrap': False,\n",
              " 'max_depth': 8,\n",
              " 'max_features': 'auto',\n",
              " 'min_samples_leaf': 1,\n",
              " 'min_samples_split': 2,\n",
              " 'n_estimators': 25}"
            ]
          },
          "metadata": {},
          "execution_count": 97
        }
      ]
    },
    {
      "cell_type": "code",
      "source": [
        "rf_Model_best = rf_Grid.best_estimator_\n",
        "prediction = rf_Model_best.predict(X_test)\n",
        "#roc_auc_score(y, clf.decision_function(X))"
      ],
      "metadata": {
        "id": "EB18RQZlktk6"
      },
      "execution_count": null,
      "outputs": []
    },
    {
      "cell_type": "code",
      "source": [
        "prediction"
      ],
      "metadata": {
        "colab": {
          "base_uri": "https://localhost:8080/"
        },
        "id": "7L5Vo5xcvYRZ",
        "outputId": "db295ea0-33c4-4f6f-8587-90775679d72e"
      },
      "execution_count": null,
      "outputs": [
        {
          "output_type": "execute_result",
          "data": {
            "text/plain": [
              "array([0, 0, 0, 0, 0, 0, 0, 0, 0, 0, 0, 0, 0, 0, 0, 0, 0, 0, 0, 0, 1, 1,\n",
              "       1, 1, 1, 1, 1, 1, 1, 1, 1, 1, 1, 1, 1, 1, 1, 1, 1, 1])"
            ]
          },
          "metadata": {},
          "execution_count": 104
        }
      ]
    },
    {
      "cell_type": "code",
      "source": [
        "y_test"
      ],
      "metadata": {
        "colab": {
          "base_uri": "https://localhost:8080/"
        },
        "id": "XyYfhMWxvjoV",
        "outputId": "e8254eca-f2d2-447d-8092-117147a9a558"
      },
      "execution_count": null,
      "outputs": [
        {
          "output_type": "execute_result",
          "data": {
            "text/plain": [
              "0        death\n",
              "1        death\n",
              "2        death\n",
              "3        death\n",
              "4        death\n",
              "5        death\n",
              "6        death\n",
              "7        death\n",
              "8        death\n",
              "9        death\n",
              "10       death\n",
              "11       death\n",
              "12       death\n",
              "13       death\n",
              "14       death\n",
              "15       death\n",
              "16       death\n",
              "17       death\n",
              "18       death\n",
              "19       death\n",
              "20    survival\n",
              "21    survival\n",
              "22    survival\n",
              "23    survival\n",
              "24    survival\n",
              "25    survival\n",
              "26    survival\n",
              "27    survival\n",
              "28    survival\n",
              "29    survival\n",
              "30    survival\n",
              "31    survival\n",
              "32    survival\n",
              "33    survival\n",
              "34    survival\n",
              "35    survival\n",
              "36    survival\n",
              "37    survival\n",
              "38    survival\n",
              "39    survival\n",
              "Name: class, dtype: object"
            ]
          },
          "metadata": {},
          "execution_count": 105
        }
      ]
    }
  ]
}